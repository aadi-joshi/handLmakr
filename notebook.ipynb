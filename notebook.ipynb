{
  "nbformat": 4,
  "nbformat_minor": 0,
  "metadata": {
    "colab": {
      "provenance": []
    },
    "kernelspec": {
      "name": "python3",
      "display_name": "Python 3"
    },
    "language_info": {
      "name": "python"
    }
  },
  "cells": [
    {
      "cell_type": "code",
      "source": [
        "import requests\n",
        "url=\"https://codeforces.com/api/user.ratedList\" # cf provided api\n",
        "response=requests.get(url)\n",
        "response_text=response.text"
      ],
      "metadata": {
        "id": "6eErEAodRz2y"
      },
      "execution_count": 1,
      "outputs": []
    },
    {
      "cell_type": "code",
      "source": [
        "import json\n",
        "data=json.loads(response_text)\n",
        "handles=[u['handle'] for u in data['result'] if 'handle' in u]\n",
        "handles[0:5]"
      ],
      "metadata": {
        "colab": {
          "base_uri": "https://localhost:8080/"
        },
        "id": "qp6VcmRQR078",
        "outputId": "0afad28d-bb0e-4eaa-c48c-7dd18a36f05c"
      },
      "execution_count": 2,
      "outputs": [
        {
          "output_type": "execute_result",
          "data": {
            "text/plain": [
              "['jiangly', 'Kevin114514', 'jqdai0815', 'orzdevinwang', 'tourist']"
            ]
          },
          "metadata": {},
          "execution_count": 2
        }
      ]
    },
    {
      "cell_type": "code",
      "source": [
        "top_10000=handles[:10000] # number of handles to include\n",
        "# currently im taking 10k\n",
        "with open(\"handles.txt\",\"w\",encoding=\"utf-8\") as f:\n",
        "    for h in top_10000:\n",
        "        f.write(h + \"\\n\")\n",
        "print(\"Saved\",len(top_10000),\"handles to handles.txt\")"
      ],
      "metadata": {
        "colab": {
          "base_uri": "https://localhost:8080/"
        },
        "id": "25W672uiSDnX",
        "outputId": "bfc66c01-84d1-42e9-a8ac-170484572a29"
      },
      "execution_count": 3,
      "outputs": [
        {
          "output_type": "stream",
          "name": "stdout",
          "text": [
            "Saved 10000 handles to handles.txt\n"
          ]
        }
      ]
    },
    {
      "cell_type": "code",
      "execution_count": 4,
      "metadata": {
        "id": "9cC5-oz4azml"
      },
      "outputs": [],
      "source": [
        "import torch\n",
        "import torch.nn.functional as F\n",
        "import matplotlib.pyplot as plt # for making figures\n",
        "%matplotlib inline"
      ]
    },
    {
      "cell_type": "code",
      "source": [
        "# read in all the words\n",
        "words = open('/content/handles.txt', 'r').read().splitlines()\n",
        "words[:8]"
      ],
      "metadata": {
        "colab": {
          "base_uri": "https://localhost:8080/"
        },
        "id": "YAMxRRaLbC9w",
        "outputId": "05f53d1f-93b9-4946-a5b0-e6c713d5cc1f"
      },
      "execution_count": 5,
      "outputs": [
        {
          "output_type": "execute_result",
          "data": {
            "text/plain": [
              "['jiangly',\n",
              " 'Kevin114514',\n",
              " 'jqdai0815',\n",
              " 'orzdevinwang',\n",
              " 'tourist',\n",
              " 'ecnerwala',\n",
              " 'Benq',\n",
              " 'ksun48']"
            ]
          },
          "metadata": {},
          "execution_count": 5
        }
      ]
    },
    {
      "cell_type": "code",
      "source": [
        "len(words)"
      ],
      "metadata": {
        "colab": {
          "base_uri": "https://localhost:8080/"
        },
        "id": "JiWA6GGsbL00",
        "outputId": "cac24b7b-df20-4322-873b-92971647b010"
      },
      "execution_count": 6,
      "outputs": [
        {
          "output_type": "execute_result",
          "data": {
            "text/plain": [
              "10000"
            ]
          },
          "metadata": {},
          "execution_count": 6
        }
      ]
    },
    {
      "cell_type": "code",
      "source": [
        "# build the vocabulary of characters and mappins to/from integers\n",
        "# Including lowercase, uppercase, numbers, and special symbols allowed in Codeforces usernames\n",
        "import string\n",
        "chars = sorted(list(set(''.join(words) + string.ascii_uppercase + string.digits + '_-'))) # Added uppercase, digits, underscore, and hyphen\n",
        "stoi = {s:i+1 for i,s in enumerate(chars)}\n",
        "stoi['.'] = 0 # Keep '.' as the end-of-word token\n",
        "itos = {i:s for s,i in stoi.items()}\n",
        "vocab_size=len(itos)\n",
        "print(itos)\n",
        "print(vocab_size)"
      ],
      "metadata": {
        "colab": {
          "base_uri": "https://localhost:8080/"
        },
        "id": "hXNKgIUtbNH1",
        "outputId": "19cd1f68-8265-488f-88fa-c5ea68625f86"
      },
      "execution_count": 7,
      "outputs": [
        {
          "output_type": "stream",
          "name": "stdout",
          "text": [
            "{1: '-', 0: '.', 3: '0', 4: '1', 5: '2', 6: '3', 7: '4', 8: '5', 9: '6', 10: '7', 11: '8', 12: '9', 13: 'A', 14: 'B', 15: 'C', 16: 'D', 17: 'E', 18: 'F', 19: 'G', 20: 'H', 21: 'I', 22: 'J', 23: 'K', 24: 'L', 25: 'M', 26: 'N', 27: 'O', 28: 'P', 29: 'Q', 30: 'R', 31: 'S', 32: 'T', 33: 'U', 34: 'V', 35: 'W', 36: 'X', 37: 'Y', 38: 'Z', 39: '_', 40: 'a', 41: 'b', 42: 'c', 43: 'd', 44: 'e', 45: 'f', 46: 'g', 47: 'h', 48: 'i', 49: 'j', 50: 'k', 51: 'l', 52: 'm', 53: 'n', 54: 'o', 55: 'p', 56: 'q', 57: 'r', 58: 's', 59: 't', 60: 'u', 61: 'v', 62: 'w', 63: 'x', 64: 'y', 65: 'z'}\n",
            "65\n"
          ]
        }
      ]
    },
    {
      "cell_type": "code",
      "source": [
        "# build the dataset\n",
        "block_size=3\n",
        "\n",
        "def build_dataset(words):\n",
        "  block_size=3 # context length: how mant characters do we take to predict the next one?\n",
        "  X,Y=[], []\n",
        "  for w in words:\n",
        "    # print(w)\n",
        "    context=[0]*block_size\n",
        "    for ch in w+'.':\n",
        "      ix=stoi[ch]\n",
        "      X.append(context)\n",
        "      Y.append(ix)\n",
        "      # print(''.join(itos[i] for i in context), '--->', itos[ix])\n",
        "      context=context[1:]+[ix] # crop and append\n",
        "  X=torch.tensor(X)\n",
        "  Y=torch.tensor(Y)\n",
        "  print(X.shape, Y.shape)\n",
        "  return X,Y\n",
        "\n",
        "import random\n",
        "random.seed(42)\n",
        "random.shuffle(words)\n",
        "n1=int(0.8*len(words))\n",
        "n2=int(0.9*len(words))\n",
        "\n",
        "Xtr, Ytr = build_dataset(words[:n1])\n",
        "Xdev, Ydev = build_dataset(words[n1:n2])\n",
        "Xte, Yte = build_dataset(words[n2:])\n",
        "# training split, dev/validation split, test split\n",
        "# 80%, 10%, 10%"
      ],
      "metadata": {
        "colab": {
          "base_uri": "https://localhost:8080/"
        },
        "id": "Q0j7k5p305oJ",
        "outputId": "d1625b41-bc02-49da-faeb-b123a931bb49"
      },
      "execution_count": 8,
      "outputs": [
        {
          "output_type": "stream",
          "name": "stdout",
          "text": [
            "torch.Size([79347, 3]) torch.Size([79347])\n",
            "torch.Size([9950, 3]) torch.Size([9950])\n",
            "torch.Size([9855, 3]) torch.Size([9855])\n"
          ]
        }
      ]
    },
    {
      "cell_type": "code",
      "source": [
        "# MLP revisited\n",
        "n_embd=10 # the dimensionality of the character embedding vectors\n",
        "n_hidden = 200 # the number of neurons in the hiddne layer of the MLP\n",
        "\n",
        "g = torch.Generator().manual_seed(2147483647) # for reproducibility\n",
        "C = torch.randn((vocab_size + 1, n_embd),             generator=g) # Use updated vocab_size + 1\n",
        "W1 = torch.randn((n_embd * block_size, n_hidden), generator=g) * (5/3)/((n_embd * block_size)**0.5) # kaiming init\n",
        "#b1 = torch.randn(n_hidden,                        generator=g) * 0.01\n",
        "W2 = torch.randn((n_hidden, vocab_size + 1),          generator=g) * 0.01 # Use updated vocab_size + 1\n",
        "b2 = torch.randn(vocab_size + 1,                      generator=g) * 0 # Use updated vocab_size + 1\n",
        "\n",
        "# Batchnorm parameters\n",
        "bngain = torch.ones((1, n_hidden))\n",
        "bnbias = torch.zeros((1, n_hidden))\n",
        "bnmean_running = torch.zeros((1, n_hidden))\n",
        "bnstd_running = torch.zeros((1, n_hidden))\n",
        "\n",
        "parameters = [C, W1, W2, b2, bngain, bnbias]\n",
        "print(sum(p.nelement() for p in parameters)) # number of parameters in total\n",
        "for p in parameters:\n",
        "  p.requires_grad = True"
      ],
      "metadata": {
        "colab": {
          "base_uri": "https://localhost:8080/"
        },
        "id": "NZGrH6cD1REV",
        "outputId": "6d0a52a4-7cb4-4154-8745-9fe0b0c43272"
      },
      "execution_count": 9,
      "outputs": [
        {
          "output_type": "stream",
          "name": "stdout",
          "text": [
            "20326\n"
          ]
        }
      ]
    },
    {
      "cell_type": "markdown",
      "source": [
        "how we got the value of h (KAIMING INIT)<br>\n",
        "5/3 is gain for tanh<br>\n",
        "divide that with sqrt(fan-in)<br>\n",
        "fan-in here for W1 is n_embd*block size"
      ],
      "metadata": {
        "id": "Mz71mfoEN1Qg"
      }
    },
    {
      "cell_type": "code",
      "source": [
        "x_temp = torch.randn(1000, 10)\n",
        "w_temp = torch.randn(10, 200)\n",
        "y_temp = x_temp@w_temp\n",
        "print(x_temp.mean(), x_temp.std())\n",
        "print(y_temp.mean(), y_temp.std())\n",
        "plt.figure(figsize=(20, 5))\n",
        "plt.subplot(121)\n",
        "plt.hist(x_temp.view(-1).tolist(), 50, density =True)\n",
        "plt.subplot(122)\n",
        "plt.hist(y_temp.view(-1).tolist(), 50, density =True)"
      ],
      "metadata": {
        "colab": {
          "base_uri": "https://localhost:8080/",
          "height": 769
        },
        "id": "EPCByPE1Gjp6",
        "outputId": "8260c809-af26-4ac4-eca6-efa2f00d7b22"
      },
      "execution_count": 10,
      "outputs": [
        {
          "output_type": "stream",
          "name": "stdout",
          "text": [
            "tensor(-0.0130) tensor(1.0148)\n",
            "tensor(-0.0006) tensor(3.2421)\n"
          ]
        },
        {
          "output_type": "execute_result",
          "data": {
            "text/plain": [
              "(array([6.46771872e-06, 6.46771872e-06, 0.00000000e+00, 1.29354374e-05,\n",
              "        1.94031562e-05, 1.29354374e-05, 3.88063123e-05, 8.40803434e-05,\n",
              "        1.29354374e-04, 3.16918217e-04, 4.13933998e-04, 7.37319934e-04,\n",
              "        1.27414059e-03, 2.02439596e-03, 3.57664845e-03, 5.34880338e-03,\n",
              "        8.53092099e-03, 1.37244991e-02, 2.13952135e-02, 3.14266453e-02,\n",
              "        4.41939220e-02, 6.28985646e-02, 8.15449976e-02, 1.03308871e-01,\n",
              "        1.20364245e-01, 1.29884727e-01, 1.32064349e-01, 1.23391138e-01,\n",
              "        1.06691488e-01, 8.61435456e-02, 6.58931183e-02, 4.90770497e-02,\n",
              "        3.43500541e-02, 2.33872709e-02, 1.51862036e-02, 1.00508349e-02,\n",
              "        6.29309031e-03, 4.11346911e-03, 2.30897558e-03, 1.43583356e-03,\n",
              "        7.82593965e-04, 4.59208029e-04, 2.58708749e-04, 1.94031562e-04,\n",
              "        7.11449059e-05, 3.88063123e-05, 4.52740310e-05, 1.29354374e-05,\n",
              "        0.00000000e+00, 1.94031562e-05]),\n",
              " array([-20.19341469, -19.42034458, -18.64727448, -17.87420437,\n",
              "        -17.10113426, -16.32806416, -15.55499405, -14.78192394,\n",
              "        -14.00885384, -13.23578373, -12.46271362, -11.68964352,\n",
              "        -10.91657341, -10.1435033 ,  -9.3704332 ,  -8.59736309,\n",
              "         -7.82429298,  -7.05122288,  -6.27815277,  -5.50508266,\n",
              "         -4.73201256,  -3.95894245,  -3.18587234,  -2.41280224,\n",
              "         -1.63973213,  -0.86666203,  -0.09359192,   0.67947819,\n",
              "          1.45254829,   2.2256184 ,   2.99868851,   3.77175861,\n",
              "          4.54482872,   5.31789883,   6.09096893,   6.86403904,\n",
              "          7.63710915,   8.41017925,   9.18324936,   9.95631947,\n",
              "         10.72938957,  11.50245968,  12.27552979,  13.04859989,\n",
              "         13.82167   ,  14.5947401 ,  15.36781021,  16.14088032,\n",
              "         16.91395042,  17.68702053,  18.46009064]),\n",
              " <BarContainer object of 50 artists>)"
            ]
          },
          "metadata": {},
          "execution_count": 10
        },
        {
          "output_type": "display_data",
          "data": {
            "text/plain": [
              "<Figure size 2000x500 with 2 Axes>"
            ],
            "image/png": "[encoded data removed]"
          },
          "metadata": {}
        }
      ]
    },
    {
      "cell_type": "code",
      "source": [
        "# same optimization as last time\n",
        "max_steps=200000\n",
        "batch_size=32\n",
        "lossi=[]\n",
        "\n",
        "for i in range(max_steps):\n",
        "\n",
        "  # minibatch construct\n",
        "  ix = torch.randint(0, Xtr.shape[0], (batch_size,), generator=g)\n",
        "  Xb, Yb = Xtr[ix], Ytr[ix] # batch X,Y\n",
        "\n",
        "  # forward pass\n",
        "  emb=C[Xb] # embed the characters into vectors\n",
        "  embcat=emb.view(emb.shape[0],-1) # concatenate the vectors\n",
        "\n",
        "  # Linaer layer\n",
        "  hpreact=embcat @ W1 # + b1 # hidden layer pre-activation\n",
        "  # b1 commented out snce bias grad comes out to be 0 since we divide by mean later\n",
        "  # also batch normalisqation has its own bias\n",
        "\n",
        "  # BatchNorm layer\n",
        "  # ------------------------------------------------------------------\n",
        "  bnmeani = hpreact.mean(0, keepdim=True)\n",
        "  bnstdi = hpreact.std(0, keepdim=True)\n",
        "  # ^^ mean and std can be calculated in running manner\n",
        "  hpreact = bngain * (hpreact-bnmeani)/bnstdi+ bnbias\n",
        "  # batch normalisation\n",
        "  with torch.no_grad():\n",
        "    # running mean manner\n",
        "    bnmean_running = 0.999 * bnmean_running + 0.001 * bnmeani\n",
        "    bnstd_running = 0.999 * bnstd_running + 0.001 * bnstdi\n",
        "    # 0.001 is batch size. keep it higher for higher batch size. here its small\n",
        "  # ------------------------------------------------------------------\n",
        "\n",
        "  # Non-linearity\n",
        "  h=torch.tanh(hpreact) # hidden layer\n",
        "  logits=h @ W2 + b2 # output layer\n",
        "  loss = F.cross_entropy(logits, Yb) # loss function\n",
        "\n",
        "  # backward pass\n",
        "  for p in parameters:\n",
        "    p.grad = None\n",
        "  loss.backward()\n",
        "\n",
        "  # update\n",
        "  lr=0.1 if i<100000 else 0.01 # step learning rate decay\n",
        "  for p in parameters:\n",
        "    p.data += -lr * p.grad\n",
        "\n",
        "  # track stats\n",
        "  if i % 10000 == 0: # print every once in a while\n",
        "    print(f'{i:7d}/{max_steps:7d}: {loss.item():.4f}')\n",
        "  lossi.append(loss.log10().item())\n",
        "\n",
        "  # break # see initial loss"
      ],
      "metadata": {
        "colab": {
          "base_uri": "https://localhost:8080/"
        },
        "id": "JL_7FRh615W_",
        "outputId": "3cc2d0c6-937c-4c55-8d29-82a812242ec4"
      },
      "execution_count": 11,
      "outputs": [
        {
          "output_type": "stream",
          "name": "stdout",
          "text": [
            "      0/ 200000: 4.1934\n",
            "  10000/ 200000: 3.2789\n",
            "  20000/ 200000: 3.5805\n",
            "  30000/ 200000: 3.0915\n",
            "  40000/ 200000: 2.7291\n",
            "  50000/ 200000: 3.1879\n",
            "  60000/ 200000: 2.5336\n",
            "  70000/ 200000: 2.7927\n",
            "  80000/ 200000: 2.7922\n",
            "  90000/ 200000: 2.6649\n",
            " 100000/ 200000: 2.7857\n",
            " 110000/ 200000: 3.1942\n",
            " 120000/ 200000: 3.0690\n",
            " 130000/ 200000: 2.8287\n",
            " 140000/ 200000: 2.8265\n",
            " 150000/ 200000: 3.0837\n",
            " 160000/ 200000: 2.9371\n",
            " 170000/ 200000: 2.8376\n",
            " 180000/ 200000: 2.9450\n",
            " 190000/ 200000: 3.0010\n"
          ]
        }
      ]
    },
    {
      "cell_type": "code",
      "source": [
        "plt.figure(figsize=(20,10))\n",
        "plt.imshow(h.abs()>0.99, cmap='gray', interpolation='nearest')"
      ],
      "metadata": {
        "colab": {
          "base_uri": "https://localhost:8080/",
          "height": 206
        },
        "id": "5VSCNwFd83d2",
        "outputId": "7eebbf6c-1056-45a7-b3df-d81018f6620e"
      },
      "execution_count": 12,
      "outputs": [
        {
          "output_type": "execute_result",
          "data": {
            "text/plain": [
              "<matplotlib.image.AxesImage at 0x7f881baafef0>"
            ]
          },
          "metadata": {},
          "execution_count": 12
        },
        {
          "output_type": "display_data",
          "data": {
            "text/plain": [
              "<Figure size 2000x1000 with 1 Axes>"
            ],
            "image/png": "[encoded data removed]"
          },
          "metadata": {}
        }
      ]
    },
    {
      "cell_type": "code",
      "source": [
        "print(\"current h is:\")\n",
        "print(h.shape)\n",
        "print(\"we can view it as -1 to stretch it out into one large vector\\nthen we can call tolist to convert it into one large python list of floats\")\n",
        "temp=h.view(-1).tolist()\n",
        "# print(temp)\n",
        "plt.hist(temp, 50)\n",
        "print(\"most of the values arem 1 and -1 which means tanh funcn is very active\".upper());"
      ],
      "metadata": {
        "colab": {
          "base_uri": "https://localhost:8080/",
          "height": 517
        },
        "id": "0l_zTgCB0BFX",
        "outputId": "0bc8a0ff-e45c-4364-a6f8-9899c8f17b45"
      },
      "execution_count": 23,
      "outputs": [
        {
          "output_type": "stream",
          "name": "stdout",
          "text": [
            "current h is:\n",
            "torch.Size([1, 200])\n",
            "we can view it as -1 to stretch it out into one large vector\n",
            "then we can call tolist to convert it into one large python list of floats\n",
            "MOST OF THE VALUES AREM 1 AND -1 WHICH MEANS TANH FUNCN IS VERY ACTIVE\n"
          ]
        },
        {
          "output_type": "display_data",
          "data": {
            "text/plain": [
              "<Figure size 640x480 with 1 Axes>"
            ],
            "image/png": "[encoded data removed]"
          },
          "metadata": {}
        }
      ]
    },
    {
      "cell_type": "code",
      "source": [
        "# plt.hist(hpreact.view(-1).tolist(),50)\n",
        "plt.hist(hpreact.view(-1).tolist(),50); # semicolon removed unnecessary output"
      ],
      "metadata": {
        "colab": {
          "base_uri": "https://localhost:8080/",
          "height": 430
        },
        "id": "6z5btNsX1bId",
        "outputId": "e62a5dc0-0720-43fd-bfee-943548f5a8d1"
      },
      "execution_count": 14,
      "outputs": [
        {
          "output_type": "display_data",
          "data": {
            "text/plain": [
              "<Figure size 640x480 with 1 Axes>"
            ],
            "image/png": "[encoded data removed]"
          },
          "metadata": {}
        }
      ]
    },
    {
      "cell_type": "code",
      "source": [
        "# at init the neural net is creating prob distributions that are all messed up\n",
        "# hence loss is too high at the beginning (27)\n",
        "\n",
        "# 4 dimensional example of this issue\n",
        "\n",
        "def print_prob_loss(logits, message=\"\"):\n",
        "  probs=torch.softmax(logits, dim=0)\n",
        "  loss = -probs[2].log()\n",
        "  print(probs, loss)\n",
        "  print(message)\n",
        "  print()\n",
        "\n",
        "logits=torch.tensor([0.0, 0.0, 0.0, 0.0]) # uniform distribution\n",
        "# can be any numbers, doesnt have to be 0.0, just should have unif. dist.\n",
        "print_prob_loss(logits, \"expected loss for uniform distribution\")\n",
        "\n",
        "print_prob_loss(torch.tensor([1.0, 1.0, 1.0, 1.0]), \"also uniform dist but 1 instead of 0\")\n",
        "\n",
        "print_prob_loss(torch.tensor([0.0, 0.0, 5.0, 0.0]), \"correct index by chance, so very low loss by chance\")\n",
        "\n",
        "print_prob_loss(torch.tensor([5.0, 0.0, 0.0, 0.0]), \"wrong index by chance, so very high loss by chance\")\n",
        "\n",
        "print_prob_loss(torch.randn(4)*10, \"randomised losses\")\n",
        "print_prob_loss(torch.randn(4)*100, \"even more extreme losses\")\n"
      ],
      "metadata": {
        "colab": {
          "base_uri": "https://localhost:8080/"
        },
        "id": "OJk8hGIx6iOu",
        "outputId": "ec9c6afe-cd10-44f8-f7de-9441b4354213"
      },
      "execution_count": 15,
      "outputs": [
        {
          "output_type": "stream",
          "name": "stdout",
          "text": [
            "tensor([0.2500, 0.2500, 0.2500, 0.2500]) tensor(1.3863)\n",
            "expected loss for uniform distribution\n",
            "\n",
            "tensor([0.2500, 0.2500, 0.2500, 0.2500]) tensor(1.3863)\n",
            "also uniform dist but 1 instead of 0\n",
            "\n",
            "tensor([0.0066, 0.0066, 0.9802, 0.0066]) tensor(0.0200)\n",
            "correct index by chance, so very low loss by chance\n",
            "\n",
            "tensor([0.9802, 0.0066, 0.0066, 0.0066]) tensor(5.0200)\n",
            "wrong index by chance, so very high loss by chance\n",
            "\n",
            "tensor([7.1952e-08, 1.0400e-10, 1.0000e+00, 1.0439e-08]) tensor(1.1921e-07)\n",
            "randomised losses\n",
            "\n",
            "tensor([8.5900e-28, 0.0000e+00, 3.4422e-15, 1.0000e+00]) tensor(33.3027)\n",
            "even more extreme losses\n",
            "\n"
          ]
        }
      ]
    },
    {
      "cell_type": "code",
      "source": [
        "plt.plot(lossi)"
      ],
      "metadata": {
        "colab": {
          "base_uri": "https://localhost:8080/",
          "height": 447
        },
        "id": "n1Fq9Ldk20f7",
        "outputId": "cd23060f-b167-403f-dd5b-82f7a42bd03d"
      },
      "execution_count": 16,
      "outputs": [
        {
          "output_type": "execute_result",
          "data": {
            "text/plain": [
              "[<matplotlib.lines.Line2D at 0x7f88187e0b00>]"
            ]
          },
          "metadata": {},
          "execution_count": 16
        },
        {
          "output_type": "display_data",
          "data": {
            "text/plain": [
              "<Figure size 640x480 with 1 Axes>"
            ],
            "image/png": "[encoded data removed]"
          },
          "metadata": {}
        }
      ]
    },
    {
      "cell_type": "code",
      "source": [
        "# calibrate the batch norm at the end of training\n",
        "with torch.no_grad():\n",
        "  # pass the training set through\n",
        "  emb = C[Xtr]\n",
        "  embcat = emb.view(emb.shape[0], -1)\n",
        "  hpreact = embcat @ W1\n",
        "  # measure the mean/std over the entire training set\n",
        "  bnmean = hpreact.mean(0, keepdim=True)\n",
        "  bnstd = hpreact.std(0, keepdim=True)"
      ],
      "metadata": {
        "id": "UfBrXy1bhoV0"
      },
      "execution_count": 17,
      "outputs": []
    },
    {
      "cell_type": "markdown",
      "source": [
        "above block isnt really going to be used<br>since now bnmean and bnmean_running are quite similar so it is preferred to use running so we dont have to expicitly calibrate at end.<br>same goes for bnstd and bnstd_running<br>\n"
      ],
      "metadata": {
        "id": "k6_6CWPioZNr"
      }
    },
    {
      "cell_type": "code",
      "source": [
        "# tells torch that we will not call .backward() on any of these computations\n",
        "# hence it doesnt need to maintain the graph under the hood\n",
        "@torch.no_grad() # this decorator disables gradient tracking\n",
        "def split_loss(split):\n",
        "  x,y={\n",
        "    'train': (Xtr, Ytr),\n",
        "    'val': (Xdev, Ydev),\n",
        "    'test': (Xte, Yte),\n",
        "  }[split]\n",
        "  emb = C[x] # (N, block_size, n_embed)\n",
        "  embcat = emb.view(emb.shape[0], -1) # concat into (N, block_size * n_embed)\n",
        "  hpreact = embcat @ W1 # + b1\n",
        "  # hpreact = bngain * (hpreact - hpreact.mean(0, keepdim=True)) / hpreact.std(0, keepdim=True) + bnbias\n",
        "  # this actually does something unnatural and adds jitter\n",
        "\n",
        "  # instead of estimating it dynamically we can use bnmean and bnstd\n",
        "  hpreact = bngain * (hpreact - bnmean_running) / bnstd_running + bnbias # + epsilon\n",
        "  # we can add a very very small value of +epsilon in case the variance over our batch comes out to be 0\n",
        "  # this helps prevent division by 0\n",
        "  # skipped in this case because unlikely to happen\n",
        "\n",
        "  h = torch.tanh(hpreact) # (N, n_hidden)\n",
        "  logits = h @ W2 + b2 # (N, vocab_size)\n",
        "  loss = F.cross_entropy(logits, y)\n",
        "  print(split, loss.item())\n",
        "\n",
        "split_loss('train')\n",
        "split_loss('val')"
      ],
      "metadata": {
        "colab": {
          "base_uri": "https://localhost:8080/"
        },
        "id": "Hk567h9E3m1a",
        "outputId": "e97ca07b-a586-49b1-cc1b-17dea8df6d50"
      },
      "execution_count": 18,
      "outputs": [
        {
          "output_type": "stream",
          "name": "stdout",
          "text": [
            "train 2.785353899002075\n",
            "val 3.061318874359131\n"
          ]
        }
      ]
    },
    {
      "cell_type": "markdown",
      "source": [
        "## loss log\n",
        "<hr>\n",
        "original:<br>train 2.1245384...<br>val 2.1681964...\n",
        "<hr>\n",
        "fix softmax confidently wrong:<br>train 2.07<br> val 2.03\n",
        "<hr>\n",
        "fix tanh layer too saturated at init:<br>train 2.0355966<br>val 2.1026785\n",
        "<hr>\n",
        "use semi principled \"kaiming init\" instead of hacky init:<br>train: 2.0376641<br>val: 2.1681964\n",
        "<hr>\n",
        "add a batch norm layer<br>train: 2.0668270<br>val: 2.1048448"
      ],
      "metadata": {
        "id": "NV9TS7ocFTVi"
      }
    },
    {
      "cell_type": "code",
      "source": [
        "# sample from the model\n",
        "g = torch.Generator().manual_seed(2147483647 + 10)\n",
        "\n",
        "for _ in range(20):\n",
        "  out = []\n",
        "  context = [0] * block_size # initialize with all ...\n",
        "  while True:\n",
        "    # forward pass the neural net\n",
        "    emb = C[torch.tensor([context])] # (1,block_size,d)\n",
        "    hpreact = emb.view(1, -1) @ W1 # + b1 # apply batch norm\n",
        "    hpreact = bngain * (hpreact - bnmean_running) / bnstd_running + bnbias\n",
        "    h = torch.tanh(hpreact) # (N, n_hidden)\n",
        "    logits = h @ W2 + b2\n",
        "    probs=F.softmax(logits, dim=1)\n",
        "    # sample from the distribution\n",
        "    ix= torch.multinomial(probs, num_samples=1, generator=g).item()\n",
        "    # shift the context window and track the samples\n",
        "    context = context[1:] + [ix]\n",
        "    out.append(ix)\n",
        "    # if we sample the special '.' token, break\n",
        "    if ix == 0:\n",
        "      break\n",
        "  print(''.join(itos[i] for i in out)[:-1]) # decode and print the generated word"
      ],
      "metadata": {
        "colab": {
          "base_uri": "https://localhost:8080/"
        },
        "id": "T89Jybfz4yn3",
        "outputId": "c31fb19c-8753-4672-8060-1effa901f7ba"
      },
      "execution_count": 21,
      "outputs": [
        {
          "output_type": "stream",
          "name": "stdout",
          "text": [
            "Beop\n",
            "dhexhsj\n",
            "Magnfank\n",
            "Kirut0larami7it2\n",
            "codskieko\n",
            "Lin\n",
            "ding\n",
            "cpy\n",
            "sokhuatPimc204\n",
            "Res\n",
            "To12\n",
            "Xue\n",
            "Nartflylett\n",
            "Huicbividel_S\n",
            "kr\n",
            "Staress1\n",
            "Sadamoochaiber\n",
            "_NaQFUU\n",
            "breage1646\n",
            "siz\n"
          ]
        }
      ]
    },
    {
      "cell_type": "markdown",
      "source": [
        "okay"
      ],
      "metadata": {
        "id": "bwRzlt4ZcYK6"
      }
    }
  ]
}