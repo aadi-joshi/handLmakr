{
  "nbformat": 4,
  "nbformat_minor": 0,
  "metadata": {
    "colab": {
      "provenance": [],
      "gpuType": "T4"
    },
    "kernelspec": {
      "name": "python3",
      "display_name": "Python 3"
    },
    "language_info": {
      "name": "python"
    },
    "accelerator": "GPU"
  },
  "cells": [
    {
      "cell_type": "markdown",
      "source": [
        "# handLmakr\n",
        "### autoregressive character-level language model for making cf usernames, made from scratch. similar to andrej karpathy's makemore\n",
        "\n",
        "### some notable features:\n",
        "- fetches data from cf api\n",
        "- neural network model from scratch with custom defined layers\n",
        "- this model is an MLP\n",
        "- embedding layers to represent chars as vectors\n",
        "- batch normalisation and Tanh activation funcns in hidden layers\n",
        "- trained using SGD"
      ],
      "metadata": {
        "id": "IAtKfOe3c6eI"
      }
    },
    {
      "cell_type": "code",
      "source": [
        "import requests\n",
        "url=\"https://codeforces.com/api/user.ratedList\" # cf provided api\n",
        "response=requests.get(url)\n",
        "response_text=response.text"
      ],
      "metadata": {
        "id": "ulD2-pcPWE91"
      },
      "execution_count": 18,
      "outputs": []
    },
    {
      "cell_type": "code",
      "source": [
        "import json\n",
        "data=json.loads(response_text)\n",
        "handles=[u['handle'] for u in data['result'] if 'handle' in u]\n",
        "handles[0:5]"
      ],
      "metadata": {
        "colab": {
          "base_uri": "https://localhost:8080/"
        },
        "id": "QtpEDFOvWGOy",
        "outputId": "6b851927-cebf-4d4a-e740-43cfcce1ce9e"
      },
      "execution_count": 19,
      "outputs": [
        {
          "output_type": "execute_result",
          "data": {
            "text/plain": [
              "['jiangly', 'Kevin114514', 'jqdai0815', 'orzdevinwang', 'tourist']"
            ]
          },
          "metadata": {},
          "execution_count": 19
        }
      ]
    },
    {
      "cell_type": "code",
      "source": [
        "top_10000=handles[:10000] # number of handles to include\n",
        "# currently im taking 10k\n",
        "with open(\"handles.txt\",\"w\",encoding=\"utf-8\") as f:\n",
        "    for h in top_10000:\n",
        "        f.write(h + \"\\n\")\n",
        "print(\"saved\",len(top_10000),\"handles to handles.txt\")"
      ],
      "metadata": {
        "colab": {
          "base_uri": "https://localhost:8080/"
        },
        "id": "9EizfcSCWMLa",
        "outputId": "568c60bf-1fcc-48cf-dcf2-6036307c0347"
      },
      "execution_count": 20,
      "outputs": [
        {
          "output_type": "stream",
          "name": "stdout",
          "text": [
            "saved 10000 handles to handles.txt\n"
          ]
        }
      ]
    },
    {
      "cell_type": "code",
      "execution_count": 21,
      "metadata": {
        "id": "9cC5-oz4azml"
      },
      "outputs": [],
      "source": [
        "import torch\n",
        "import torch.nn.functional as F\n",
        "import matplotlib.pyplot as plt # for making figures\n",
        "%matplotlib inline"
      ]
    },
    {
      "cell_type": "code",
      "source": [
        "# read in all the words\n",
        "words = open('handles.txt', 'r', encoding='utf-8').read().splitlines()\n",
        "print(len(words))\n",
        "print(max(len(w) for w in words))\n",
        "print(words[:8])\n",
        "# words[:8]"
      ],
      "metadata": {
        "colab": {
          "base_uri": "https://localhost:8080/"
        },
        "id": "YAMxRRaLbC9w",
        "outputId": "c5ed8c69-e92a-4b8a-a586-b08d113e77af"
      },
      "execution_count": 22,
      "outputs": [
        {
          "output_type": "stream",
          "name": "stdout",
          "text": [
            "10000\n",
            "24\n",
            "['jiangly', 'Kevin114514', 'jqdai0815', 'orzdevinwang', 'tourist', 'ecnerwala', 'Benq', 'ksun48']\n"
          ]
        }
      ]
    },
    {
      "cell_type": "code",
      "source": [
        "# build the vocabulary of characters and mappins to/from integers\n",
        "# Define the set of characters allowed in Codeforces usernames\n",
        "allowed_chars = 'abcdefghijklmnopqrstuvwxyzABCDEFGHIJKLMNOPQRSTUVWXYZ0123456789-_'\n",
        "chars = sorted(list(set(allowed_chars))) # Use the defined set of allowed characters\n",
        "\n",
        "stoi = {s:i+1 for i,s in enumerate(chars)}\n",
        "stoi['.'] = 0 # Add the special '.' character for padding and end-of-word\n",
        "itos = {i:s for s,i in stoi.items()}\n",
        "vocab_size=len(itos)\n",
        "print(itos)\n",
        "print(vocab_size)"
      ],
      "metadata": {
        "colab": {
          "base_uri": "https://localhost:8080/"
        },
        "id": "hXNKgIUtbNH1",
        "outputId": "0beb807c-c218-45cf-c050-6427f2ee8d5d"
      },
      "execution_count": 23,
      "outputs": [
        {
          "output_type": "stream",
          "name": "stdout",
          "text": [
            "{1: '-', 2: '0', 3: '1', 4: '2', 5: '3', 6: '4', 7: '5', 8: '6', 9: '7', 10: '8', 11: '9', 12: 'A', 13: 'B', 14: 'C', 15: 'D', 16: 'E', 17: 'F', 18: 'G', 19: 'H', 20: 'I', 21: 'J', 22: 'K', 23: 'L', 24: 'M', 25: 'N', 26: 'O', 27: 'P', 28: 'Q', 29: 'R', 30: 'S', 31: 'T', 32: 'U', 33: 'V', 34: 'W', 35: 'X', 36: 'Y', 37: 'Z', 38: '_', 39: 'a', 40: 'b', 41: 'c', 42: 'd', 43: 'e', 44: 'f', 45: 'g', 46: 'h', 47: 'i', 48: 'j', 49: 'k', 50: 'l', 51: 'm', 52: 'n', 53: 'o', 54: 'p', 55: 'q', 56: 'r', 57: 's', 58: 't', 59: 'u', 60: 'v', 61: 'w', 62: 'x', 63: 'y', 64: 'z', 0: '.'}\n",
            "65\n"
          ]
        }
      ]
    },
    {
      "cell_type": "code",
      "source": [
        "# shuffle up the words\n",
        "import random\n",
        "random.seed(42)\n",
        "random.shuffle(words)"
      ],
      "metadata": {
        "id": "nOE9BlNKjP_W"
      },
      "execution_count": 24,
      "outputs": []
    },
    {
      "cell_type": "code",
      "source": [
        "# build the dataset\n",
        "block_size=8 # context length: how many characters do we take to predict the next one?\n",
        "\n",
        "def build_dataset(words):\n",
        "  X,Y=[], []\n",
        "  for w in words:\n",
        "    # print(w)\n",
        "    context=[0]*block_size\n",
        "    for ch in w+'.':\n",
        "      ix=stoi[ch]\n",
        "      X.append(context)\n",
        "      Y.append(ix)\n",
        "      # print(''.join(itos[i] for i in context), '--->', itos[ix])\n",
        "      context=context[1:]+[ix] # crop and append\n",
        "  X=torch.tensor(X)\n",
        "  Y=torch.tensor(Y)\n",
        "  print(X.shape, Y.shape)\n",
        "  return X,Y\n",
        "\n",
        "# import random\n",
        "# random.seed(42)\n",
        "# random.shuffle(words)\n",
        "n1=int(0.8*len(words))\n",
        "n2=int(0.9*len(words))\n",
        "\n",
        "Xtr, Ytr = build_dataset(words[:n1])\n",
        "Xdev, Ydev = build_dataset(words[n1:n2])\n",
        "Xte, Yte = build_dataset(words[n2:])\n",
        "# training split, dev/validation split, test split\n",
        "# 80%, 10%, 10%"
      ],
      "metadata": {
        "colab": {
          "base_uri": "https://localhost:8080/"
        },
        "id": "Q0j7k5p305oJ",
        "outputId": "c3b3b56d-1a9d-43c2-ce94-843bc4141ffb"
      },
      "execution_count": 25,
      "outputs": [
        {
          "output_type": "stream",
          "name": "stdout",
          "text": [
            "torch.Size([79269, 8]) torch.Size([79269])\n",
            "torch.Size([9869, 8]) torch.Size([9869])\n",
            "torch.Size([9822, 8]) torch.Size([9822])\n"
          ]
        }
      ]
    },
    {
      "cell_type": "code",
      "source": [
        "for x,y in zip(Xtr[:20], Ytr[:20]):\n",
        "  print(''.join(itos[ix.item()] for ix in x), '-->', itos[y.item()])"
      ],
      "metadata": {
        "colab": {
          "base_uri": "https://localhost:8080/"
        },
        "id": "82qDEmm0jsuK",
        "outputId": "e1bcbb9e-9b52-4133-9615-1f42ba5c53d7"
      },
      "execution_count": 26,
      "outputs": [
        {
          "output_type": "stream",
          "name": "stdout",
          "text": [
            "........ --> r\n",
            ".......r --> e\n",
            "......re --> a\n",
            ".....rea --> l\n",
            "....real --> p\n",
            "...realp --> s\n",
            "..realps --> d\n",
            ".realpsd --> o\n",
            "realpsdo --> i\n",
            "ealpsdoi --> n\n",
            "alpsdoin --> g\n",
            "lpsdoing --> d\n",
            "psdoingd --> a\n",
            "sdoingda --> m\n",
            "doingdam --> y\n",
            "oingdamy --> o\n",
            "ingdamyo --> o\n",
            "ngdamyoo --> .\n",
            "........ --> l\n",
            ".......l --> u\n"
          ]
        }
      ]
    },
    {
      "cell_type": "code",
      "source": [
        "# Near copy paste of the layers developed in previous part\n",
        "\n",
        "# basically just rebuilding torch.nn\n",
        "# api is almost exactly same (fully same actually)\n",
        "\n",
        "# ----------------------------------------------------------------\n",
        "class Linear:\n",
        "\n",
        "  def __init__(self, fan_in, fan_out, bias=True):\n",
        "    self.weight = torch.randn((fan_in, fan_out)) / fan_in**0.5 ## note: kaiming init\n",
        "    self.bias = torch.zeros(fan_out) if bias else None\n",
        "\n",
        "  def __call__(self,x):\n",
        "    self.out=x@self.weight\n",
        "    if self.bias is not None:\n",
        "      self.out+=self.bias\n",
        "    return self.out\n",
        "\n",
        "  def parameters(self):\n",
        "    return [self.weight]+([] if self.bias is None else [self.bias])\n",
        "\n",
        "# ----------------------------------------------------------------\n",
        "class BatchNorm1d:\n",
        "\n",
        "  # slightly diff from pt.nn since:\n",
        "    # pt expects input (N,C) or (N,C,L)\n",
        "    # we expect  input (N,C) or (N,L,C)\n",
        "\n",
        "  def __init__(self, dim, eps=1e-5, momentum=0.1):\n",
        "    self.eps=eps\n",
        "    self.momentum=momentum\n",
        "    self.training=True\n",
        "    # parameters(trained with backprop)\n",
        "    self.gamma = torch.ones(dim)\n",
        "    self.beta = torch.zeros(dim)\n",
        "    # buffers (trained with a running 'momentum update')\n",
        "    self.running_mean=torch.zeros(dim)\n",
        "    self.running_var=torch.ones(dim)\n",
        "\n",
        "    # running mean and var trained outside of backprop\n",
        "    # trained using exponential moving average\n",
        "\n",
        "  def __call__(self,x):\n",
        "    # calculate the forward pass\n",
        "    if self.training:\n",
        "      if x.ndim==2:\n",
        "        dim = 0\n",
        "      elif x.ndim==3:\n",
        "        dim=(0,1)\n",
        "      xmean=x.mean(dim, keepdim=True) # batch mean\n",
        "      xvar=x.var(dim, keepdim=True) # batch variance\n",
        "    else:\n",
        "      xmean=self.running_mean\n",
        "      xvar=self.running_var\n",
        "    xhat=(x-xmean)/torch.sqrt(xvar+self.eps) # normalize to unit variance\n",
        "    self.out=self.gamma*xhat+self.beta\n",
        "    # update the buffers\n",
        "    if self.training:\n",
        "      with torch.no_grad():\n",
        "        self.running_mean=(1-self.momentum)*self.running_mean+self.momentum*xmean\n",
        "        self.running_var=(1-self.momentum)*self.running_var+self.momentum*xvar\n",
        "    return self.out\n",
        "\n",
        "  def parameters(self):\n",
        "    return [self.gamma, self.beta]\n",
        "\n",
        "# ----------------------------------------------------------------\n",
        "class Tanh:\n",
        "  def __call__(self,x):\n",
        "    self.out=torch.tanh(x)\n",
        "    return self.out\n",
        "  def parameters(self):\n",
        "    return []\n",
        "\n",
        "# ----------------------------------------------------------------\n",
        "class Embedding:\n",
        "\n",
        "  def __init__(self, num_embeddings, embedding_dim):\n",
        "    self.weight=torch.randn((num_embeddings, embedding_dim))\n",
        "\n",
        "  def __call__(self, IX):\n",
        "    self.out=self.weight[IX] # assign output to self.out\n",
        "    return self.out\n",
        "\n",
        "  def parameters(self):\n",
        "    return [self.weight]\n",
        "\n",
        "# ----------------------------------------------------------------\n",
        "class FlattenConsecutive: # name doesnt correlate to pt's Flatten() becaues funcn is different\n",
        "\n",
        "  def __init__(self, n):\n",
        "    self.n=n\n",
        "\n",
        "  def __call__(self,x):\n",
        "    B, T, C = x.shape\n",
        "    x=x.view(B, T//self.n, C*self.n)\n",
        "    if x.shape[1]==1:\n",
        "      x=x.squeeze(1)\n",
        "    self.out=x\n",
        "    return self.out\n",
        "\n",
        "  def parameters(self):\n",
        "    return []\n",
        "\n",
        "# ----------------------------------------------------------------\n",
        "class Sequential:\n",
        "\n",
        "  def __init__(self, layers):\n",
        "    self.layers=layers\n",
        "\n",
        "  def __call__(self, x):\n",
        "    for layer in self.layers:\n",
        "      x=layer(x)\n",
        "    self.out=x\n",
        "    return self.out\n",
        "\n",
        "  def parameters(self):\n",
        "    # get params of all layers and stretch them out into one list\n",
        "    return [p for layer in self.layers for p in layer.parameters()]"
      ],
      "metadata": {
        "id": "quo2WF7Lj_x3"
      },
      "execution_count": 27,
      "outputs": []
    },
    {
      "cell_type": "code",
      "source": [
        "torch.manual_seed(42); # seed rng for reproducibility\n",
        "\n",
        "# g = torch.Generator().manual_seed(2147483647) # for reproducibility\n",
        "# ^^ this wont be needed"
      ],
      "metadata": {
        "id": "Uf2wkHOwmmHv"
      },
      "execution_count": 28,
      "outputs": []
    },
    {
      "cell_type": "code",
      "source": [
        "# original network\n",
        "# MLP revisited\n",
        "# n_embd=10 # the dimensionality of the character embedding vectors\n",
        "# n_hidden = 200 # the number of neurons in the hiddne layer of the MLP\n",
        "# model=Sequential([\n",
        "#     Embedding(vocab_size, n_embd),\n",
        "#     FlattenConsecutive(2), Linear(n_embd*2, n_hidden, bias=False), BatchNorm1d(n_hidden), Tanh(),\n",
        "#     FlattenConsecutive(2), Linear(n_hidden*2, n_hidden, bias=False), BatchNorm1d(n_hidden), Tanh(),\n",
        "#     FlattenConsecutive(2), Linear(n_hidden*2, n_hidden, bias=False), BatchNorm1d(n_hidden), Tanh(),\n",
        "#     Linear(n_hidden, vocab_size)\n",
        "# ])\n",
        "\n",
        "# hierarchial network\n",
        "n_embd=24 # the dimensionality of the character embedding vectors\n",
        "n_hidden=128 # the number of neurons in the hidden layer of the MLP\n",
        "model=Sequential([\n",
        "  Embedding(vocab_size,n_embd),\n",
        "  FlattenConsecutive(2),Linear(n_embd*2, n_hidden, bias=False), BatchNorm1d(n_hidden),Tanh(),\n",
        "  FlattenConsecutive(2),Linear(n_hidden*2, n_hidden, bias=False), BatchNorm1d(n_hidden),Tanh(),\n",
        "  FlattenConsecutive(2),Linear(n_hidden*2, n_hidden, bias=False), BatchNorm1d(n_hidden),Tanh(),\n",
        "  Linear(n_hidden,vocab_size),\n",
        "])\n",
        "\n",
        "# param init\n",
        "with torch.no_grad():\n",
        "  model.layers[-1].weight*= 0.1 # last layer make less confident\n",
        "  # weights scaled down so we are no confidenrtly wrong at init\n",
        "\n",
        "parameters = model.parameters()\n",
        "print(sum(p.nelement() for p in parameters)) # number of parameters in total\n",
        "for p in parameters:\n",
        "  p.requires_grad = True"
      ],
      "metadata": {
        "colab": {
          "base_uri": "https://localhost:8080/"
        },
        "id": "NZGrH6cD1REV",
        "outputId": "320d24ab-17ff-40b3-b993-df1b801f2a32"
      },
      "execution_count": 29,
      "outputs": [
        {
          "output_type": "stream",
          "name": "stdout",
          "text": [
            "82393\n"
          ]
        }
      ]
    },
    {
      "cell_type": "code",
      "source": [
        "ix=torch.randint(0, Xtr.shape[0], (4,)) # lets look at a batch of just 4 exmaples\n",
        "Xb, Yb = Xtr[ix], Ytr[ix]\n",
        "logits= model(Xb)\n",
        "print(Xb.shape)\n",
        "Xb"
      ],
      "metadata": {
        "colab": {
          "base_uri": "https://localhost:8080/"
        },
        "id": "mDeZqRhi50lU",
        "outputId": "0062fb25-95b2-4aea-a9ea-5a1c1aff4e7b"
      },
      "execution_count": 30,
      "outputs": [
        {
          "output_type": "stream",
          "name": "stdout",
          "text": [
            "torch.Size([4, 8])\n"
          ]
        },
        {
          "output_type": "execute_result",
          "data": {
            "text/plain": [
              "tensor([[ 0,  0,  0, 46, 43, 51, 39, 52],\n",
              "        [ 0,  0,  0,  0,  0, 12, 40, 42],\n",
              "        [ 0,  0,  0,  0,  0,  0, 46, 53],\n",
              "        [39, 52, 42, 56, 43, 63, 15, 39]])"
            ]
          },
          "metadata": {},
          "execution_count": 30
        }
      ]
    },
    {
      "cell_type": "code",
      "source": [
        "for layer in model.layers:\n",
        "  print(layer.__class__.__name__, ':', tuple(layer.out.shape))"
      ],
      "metadata": {
        "colab": {
          "base_uri": "https://localhost:8080/"
        },
        "id": "9uF0CS7YBUhL",
        "outputId": "5f07c0a7-5d04-4eb2-b297-92be24e8b378"
      },
      "execution_count": 31,
      "outputs": [
        {
          "output_type": "stream",
          "name": "stdout",
          "text": [
            "Embedding : (4, 8, 24)\n",
            "FlattenConsecutive : (4, 4, 48)\n",
            "Linear : (4, 4, 128)\n",
            "BatchNorm1d : (4, 4, 128)\n",
            "Tanh : (4, 4, 128)\n",
            "FlattenConsecutive : (4, 2, 256)\n",
            "Linear : (4, 2, 128)\n",
            "BatchNorm1d : (4, 2, 128)\n",
            "Tanh : (4, 2, 128)\n",
            "FlattenConsecutive : (4, 256)\n",
            "Linear : (4, 128)\n",
            "BatchNorm1d : (4, 128)\n",
            "Tanh : (4, 128)\n",
            "Linear : (4, 65)\n"
          ]
        }
      ]
    },
    {
      "cell_type": "code",
      "source": [
        "model.layers[3].running_mean.shape"
      ],
      "metadata": {
        "colab": {
          "base_uri": "https://localhost:8080/"
        },
        "id": "MQkEoCSoJeb-",
        "outputId": "5143f285-f3dd-48b0-f69e-3fb9c0e6a20a"
      },
      "execution_count": 32,
      "outputs": [
        {
          "output_type": "execute_result",
          "data": {
            "text/plain": [
              "torch.Size([1, 1, 128])"
            ]
          },
          "metadata": {},
          "execution_count": 32
        }
      ]
    },
    {
      "cell_type": "code",
      "source": [
        "logits.shape"
      ],
      "metadata": {
        "colab": {
          "base_uri": "https://localhost:8080/"
        },
        "id": "jirs19s7CK7G",
        "outputId": "565735f6-d357-48d6-f25f-e6204320d932"
      },
      "execution_count": 33,
      "outputs": [
        {
          "output_type": "execute_result",
          "data": {
            "text/plain": [
              "torch.Size([4, 65])"
            ]
          },
          "metadata": {},
          "execution_count": 33
        }
      ]
    },
    {
      "cell_type": "markdown",
      "source": [
        "now we have a nice 3 layer neural net<br>basically corresponds to [this](https://miro.medium.com/1*URv2n5wz-zIeb-7SXpOw2A.png) except we only have 3 layers instead of 4 like in the img<br>we have a total receptive field size of 8 chars (16 in img)"
      ],
      "metadata": {
        "id": "PjbunbEKCUbt"
      }
    },
    {
      "cell_type": "code",
      "source": [
        "# same optimization as last time\n",
        "max_steps=200000\n",
        "batch_size=32\n",
        "lossi=[]\n",
        "\n",
        "for i in range(max_steps):\n",
        "\n",
        "  # minibatch construct\n",
        "  ix = torch.randint(0, Xtr.shape[0], (batch_size,))\n",
        "  Xb, Yb = Xtr[ix], Ytr[ix] # batch X,Y\n",
        "\n",
        "  # forward pass\n",
        "\n",
        "  # x=Xb\n",
        "  # for layer in layers:\n",
        "  #   x=layer(x)\n",
        "  # ^^ we dont have to do this forwarding here,\n",
        "  #    instead we can just call the model on the input data\n",
        "\n",
        "  logits = model(Xb)\n",
        "  loss=F.cross_entropy(logits, Yb) # loss funcn\n",
        "\n",
        "  # backward pass\n",
        "  for p in parameters:\n",
        "    p.grad=None\n",
        "  loss.backward()\n",
        "\n",
        "  # update: simple SGD\n",
        "  lr=0.1 if i<150000 else 0.01 # step learning rate decay\n",
        "  for p in parameters:\n",
        "    p.data += -lr * p.grad\n",
        "\n",
        "  # track stats\n",
        "  if i%10000==0: # print every once in a while\n",
        "    print(f'{i:7d}/{max_steps:7d}: {loss.item():.4f}')\n",
        "  lossi.append(loss.log10().item())\n",
        "\n",
        "  # break"
      ],
      "metadata": {
        "colab": {
          "base_uri": "https://localhost:8080/"
        },
        "id": "JL_7FRh615W_",
        "outputId": "b31e5994-f5e9-419b-af05-f87af0cc453e"
      },
      "execution_count": 34,
      "outputs": [
        {
          "output_type": "stream",
          "name": "stdout",
          "text": [
            "      0/ 200000: 4.1850\n",
            "  10000/ 200000: 3.5114\n",
            "  20000/ 200000: 3.0082\n",
            "  30000/ 200000: 2.5393\n",
            "  40000/ 200000: 2.8131\n",
            "  50000/ 200000: 2.8152\n",
            "  60000/ 200000: 2.5227\n",
            "  70000/ 200000: 2.1059\n",
            "  80000/ 200000: 2.0177\n",
            "  90000/ 200000: 2.5048\n",
            " 100000/ 200000: 2.3455\n",
            " 110000/ 200000: 2.0548\n",
            " 120000/ 200000: 2.2921\n",
            " 130000/ 200000: 2.1398\n",
            " 140000/ 200000: 2.5170\n",
            " 150000/ 200000: 2.5290\n",
            " 160000/ 200000: 2.0648\n",
            " 170000/ 200000: 2.1877\n",
            " 180000/ 200000: 1.7531\n",
            " 190000/ 200000: 1.9244\n"
          ]
        }
      ]
    },
    {
      "cell_type": "code",
      "source": [
        "plt.plot(torch.tensor(lossi).view(-1, 1000).mean(1))"
      ],
      "metadata": {
        "colab": {
          "base_uri": "https://localhost:8080/",
          "height": 448
        },
        "id": "EEJHrh3YswET",
        "outputId": "5a3b394d-5cee-46ed-98e8-7e527c6efe20"
      },
      "execution_count": 35,
      "outputs": [
        {
          "output_type": "execute_result",
          "data": {
            "text/plain": [
              "[<matplotlib.lines.Line2D at 0x78f71a43d9a0>]"
            ]
          },
          "metadata": {},
          "execution_count": 35
        },
        {
          "output_type": "display_data",
          "data": {
            "text/plain": [
              "<Figure size 640x480 with 1 Axes>"
            ],
            "image/png": "[encoded data removed]"
          },
          "metadata": {}
        }
      ]
    },
    {
      "cell_type": "code",
      "source": [
        "# put layers into eval mode (needed for batchnorm especially)\n",
        "for layer in model.layers:\n",
        "  layer.training=False"
      ],
      "metadata": {
        "id": "LScmngkusvNq"
      },
      "execution_count": 36,
      "outputs": []
    },
    {
      "cell_type": "code",
      "source": [
        "# evaluate the loss\n",
        "@torch.no_grad() # this decorator disables gradient tracking inside pytorch\n",
        "def split_loss(split):\n",
        "  x,y={\n",
        "      'train': (Xtr, Ytr),\n",
        "      'val': (Xdev, Ydev),\n",
        "      'test': (Xte, Yte),\n",
        "  }[split]\n",
        "  logits=model(x)\n",
        "  loss=F.cross_entropy(logits, y)\n",
        "  print(split, loss.item())\n",
        "\n",
        "split_loss('train')\n",
        "split_loss('val')"
      ],
      "metadata": {
        "colab": {
          "base_uri": "https://localhost:8080/"
        },
        "id": "JQOQ7fV1yFoY",
        "outputId": "35cc1b10-0636-40ae-f623-53b87c80fddd"
      },
      "execution_count": 37,
      "outputs": [
        {
          "output_type": "stream",
          "name": "stdout",
          "text": [
            "train 1.9102489948272705\n",
            "val 3.5626847743988037\n"
          ]
        }
      ]
    },
    {
      "cell_type": "markdown",
      "source": [
        "terrible loss but fine for now"
      ],
      "metadata": {
        "id": "U4ZGj2BVbeeJ"
      }
    },
    {
      "cell_type": "code",
      "source": [
        "# sample from the model\n",
        "\n",
        "for _ in range(20):\n",
        "  out = []\n",
        "  context = [0] * block_size # initialize with all ...\n",
        "  while True:\n",
        "    # forward pass the neural net\n",
        "    logits=model(torch.tensor([context]))\n",
        "    probs=F.softmax(logits, dim=1)\n",
        "    # sample from the distribution\n",
        "    ix= torch.multinomial(probs, num_samples=1).item()\n",
        "    # shift the context window and track the samples\n",
        "    context = context[1:] + [ix]\n",
        "    out.append(ix)\n",
        "    # if we sample the special '.' token, break\n",
        "    if ix == 0:\n",
        "      break\n",
        "  print(''.join(itos[i] for i in out[:-1])) # decode and print the generated word"
      ],
      "metadata": {
        "colab": {
          "base_uri": "https://localhost:8080/"
        },
        "id": "T89Jybfz4yn3",
        "outputId": "b8cf9a0b-ec59-48ac-b5f1-dfffbdea3e5c"
      },
      "execution_count": 44,
      "outputs": [
        {
          "output_type": "stream",
          "name": "stdout",
          "text": [
            "1aibo\n",
            "hat_onna4\n",
            "jji9056\n",
            "Ahmed_Forementourp\n",
            "Leled-IB\n",
            "armmalCks\n",
            "joskyles\n",
            "KaiyanSheew\n",
            "Shrinhseictivu121\n",
            "mj175\n",
            "Sumbrohana\n",
            "ammad_kabari_yh10\n",
            "RUSM\n",
            "dkovakau\n",
            "jaroth\n",
            "IngLightomon\n",
            "Artemantiosama\n",
            "ziehgu\n",
            "slorkohaivana\n",
            "random2005\n"
          ]
        }
      ]
    },
    {
      "cell_type": "markdown",
      "source": [
        "ok nice. one full word at end\n",
        "## thank you !"
      ],
      "metadata": {
        "id": "H1mVBjkAb3yN"
      }
    }
  ]
}